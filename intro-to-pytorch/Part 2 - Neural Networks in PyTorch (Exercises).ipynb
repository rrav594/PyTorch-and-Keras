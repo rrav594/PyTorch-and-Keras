{
 "cells": [
  {
   "cell_type": "markdown",
   "metadata": {},
   "source": [
    "# Neural networks with PyTorch\n",
    "\n",
    "Deep learning networks tend to be massive with dozens or hundreds of layers, that's where the term \"deep\" comes from. You can build one of these deep networks using only weight matrices as we did in the previous notebook, but in general it's very cumbersome and difficult to implement. PyTorch has a nice module `nn` that provides a nice way to efficiently build large neural networks."
   ]
  },
  {
   "cell_type": "code",
   "execution_count": 1,
   "metadata": {},
   "outputs": [],
   "source": [
    "# Import necessary packages\n",
    "\n",
    "%matplotlib inline\n",
    "%config InlineBackend.figure_format = 'retina'\n",
    "\n",
    "import numpy as np\n",
    "import torch\n",
    "\n",
    "import helper\n",
    "\n",
    "import matplotlib.pyplot as plt"
   ]
  },
  {
   "cell_type": "markdown",
   "metadata": {},
   "source": [
    "\n",
    "Now we're going to build a larger network that can solve a (formerly) difficult problem, identifying text in an image. Here we'll use the MNIST dataset which consists of greyscale handwritten digits. Each image is 28x28 pixels, you can see a sample below\n",
    "\n",
    "<img src='assets/mnist.png'>\n",
    "\n",
    "Our goal is to build a neural network that can take one of these images and predict the digit in the image.\n",
    "\n",
    "First up, we need to get our dataset. This is provided through the `torchvision` package. The code below will download the MNIST dataset, then create training and test datasets for us. Don't worry too much about the details here, you'll learn more about this later."
   ]
  },
  {
   "cell_type": "code",
   "execution_count": 4,
   "metadata": {},
   "outputs": [],
   "source": [
    "### Run this cell\n",
    "\n",
    "from torchvision import datasets, transforms\n",
    "\n",
    "# Define a transform to normalize the data\n",
    "transform = transforms.Compose([transforms.ToTensor(),\n",
    "                              transforms.Normalize((0.5,), (0.5,)),\n",
    "                              ])\n",
    "\n",
    "# Download and load the training data\n",
    "trainset = datasets.MNIST('~/.pytorch/MNIST_data/', download=True, train=True, transform=transform)\n",
    "trainloader = torch.utils.data.DataLoader(trainset, batch_size=64, shuffle=True)"
   ]
  },
  {
   "cell_type": "markdown",
   "metadata": {},
   "source": [
    "We have the training data loaded into `trainloader` and we make that an iterator with `iter(trainloader)`. Later, we'll use this to loop through the dataset for training, like\n",
    "\n",
    "```python\n",
    "for image, label in trainloader:\n",
    "    ## do things with images and labels\n",
    "```\n",
    "\n",
    "You'll notice I created the `trainloader` with a batch size of 64, and `shuffle=True`. The batch size is the number of images we get in one iteration from the data loader and pass through our network, often called a *batch*. And `shuffle=True` tells it to shuffle the dataset every time we start going through the data loader again. But here I'm just grabbing the first batch so we can check out the data. We can see below that `images` is just a tensor with size `(64, 1, 28, 28)`. So, 64 images per batch, 1 color channel, and 28x28 images."
   ]
  },
  {
   "cell_type": "code",
   "execution_count": 5,
   "metadata": {},
   "outputs": [
    {
     "name": "stdout",
     "output_type": "stream",
     "text": [
      "<class 'torch.Tensor'>\n",
      "torch.Size([64, 1, 28, 28])\n",
      "torch.Size([64])\n"
     ]
    }
   ],
   "source": [
    "dataiter = iter(trainloader)\n",
    "images, labels = dataiter.next()\n",
    "print(type(images))\n",
    "print(images.shape)\n",
    "print(labels.shape)"
   ]
  },
  {
   "cell_type": "markdown",
   "metadata": {},
   "source": [
    "This is what one of the images looks like. "
   ]
  },
  {
   "cell_type": "code",
   "execution_count": 6,
   "metadata": {},
   "outputs": [
    {
     "data": {
      "image/png": "[encoded data removed]",
      "text/plain": [
       "<matplotlib.figure.Figure at 0x7f70dbaa9160>"
      ]
     },
     "metadata": {
      "image/png": {
       "height": 250,
       "width": 253
      },
      "needs_background": "light"
     },
     "output_type": "display_data"
    }
   ],
   "source": [
    "plt.imshow(images[1].numpy().squeeze(), cmap='Greys_r');"
   ]
  },
  {
   "cell_type": "markdown",
   "metadata": {},
   "source": [
    "First, let's try to build a simple network for this dataset using weight matrices and matrix multiplications. Then, we'll see how to do it using PyTorch's `nn` module which provides a much more convenient and powerful method for defining network architectures.\n",
    "\n",
    "The networks you've seen so far are called *fully-connected* or *dense* networks. Each unit in one layer is connected to each unit in the next layer. In fully-connected networks, the input to each layer must be a one-dimensional vector (which can be stacked into a 2D tensor as a batch of multiple examples). However, our images are 28x28 2D tensors, so we need to convert them into 1D vectors. Thinking about sizes, we need to convert the batch of images with shape `(64, 1, 28, 28)` to a have a shape of `(64, 784)`, 784 is 28 times 28. This is typically called *flattening*, we flattened the 2D images into 1D vectors.\n",
    "\n",
    "Previously you built a network with one output unit. Here we need 10 output units, one for each digit. We want our network to predict the digit shown in an image, so what we'll do is calculate probabilities that the image is of any one digit or class. This ends up being a discrete probability distribution over the classes (digits) that tells us the most likely class for the image. That means we need 10 output units for the 10 classes (digits). We'll see how to convert the network output into a probability distribution next.\n",
    "\n",
    "> **Exercise:** Flatten the batch of images `images`. Then build a multi-layer network with 784 input units, 256 hidden units, and 10 output units using random tensors for the weights and biases. For now, use a sigmoid activation for the hidden layer. Leave the output layer without an activation, we'll add one that gives us a probability distribution next."
   ]
  },
  {
   "cell_type": "code",
   "execution_count": 19,
   "metadata": {},
   "outputs": [
    {
     "name": "stdout",
     "output_type": "stream",
     "text": [
      "torch.Size([64, 10])\n"
     ]
    },
    {
     "data": {
      "text/plain": [
       "tensor([[ -6.4829, -11.2306,  14.3165,  20.1279,  20.2710,   2.1056,\n",
       "          -1.7074,  -4.7950,  -1.1993,  25.9177],\n",
       "        [ -4.9899,  -8.1048,   8.0554,  22.3078,   3.9844,   9.6539,\n",
       "          -5.5744,  -7.3671,   4.4410,  14.8708],\n",
       "        [ -6.3804, -13.7855,  15.1144,  20.2652,   0.8194,  -4.4586,\n",
       "           0.9859, -11.6428,   4.9054,  19.7580],\n",
       "        [ -9.7124, -11.0516,  14.7481,  18.6058,  15.5241,   7.7479,\n",
       "           8.1271,  -1.8974,   4.7368,  21.1035],\n",
       "        [ -3.9612,  -6.5350,   7.6325,  27.5403,  11.7611,   8.2746,\n",
       "          -0.8297,   0.9154,   1.9313,  16.0683],\n",
       "        [ -6.0273,  -9.1849,  17.3119,  15.6888,   8.8065,   4.6765,\n",
       "          -6.6751,  -8.2917,   1.5857,  30.7780],\n",
       "        [ -7.6968, -16.7957,   9.2981,  21.7925,   7.2302,   2.6567,\n",
       "          -1.5262,   1.0490,  -1.8110,  26.3318],\n",
       "        [  0.0144, -16.5384,  15.9091,  18.1136,  16.0938,   6.1684,\n",
       "          -2.6958, -17.1510,  -6.6702,  23.6892],\n",
       "        [ -9.2144,  -9.9312,  13.6517,  11.9264,  13.5316,  17.8138,\n",
       "           2.3361, -11.0068,   5.4297,  13.7796],\n",
       "        [ -1.8459, -16.3523,  18.5237,  16.5584,   9.8799,   3.7488,\n",
       "           0.9881,  -4.4134,  -0.2196,  29.5201],\n",
       "        [ -4.3068,  -4.0225,   6.7913,   1.9003,  -9.5811,   2.2521,\n",
       "          -0.4103, -10.9720,  17.7934,   9.7910],\n",
       "        [ -0.3009, -11.7016,  18.5171,  24.5751,   1.8799,   4.7112,\n",
       "          -4.7477,  -4.8831,  -6.0219,  21.8995],\n",
       "        [  2.6287, -20.7897,  22.2064,  26.8308,  18.3227,   4.4043,\n",
       "           8.4634,  -7.1060,   0.2320,  14.7008],\n",
       "        [ -6.5835,  -7.4134,  13.4149,  18.2657,   7.9634,   2.3330,\n",
       "          -6.8766,  -8.3802,   2.1109,  13.1752],\n",
       "        [ -8.8601, -20.3767,  10.7600,  22.4321,   4.7732,  10.2411,\n",
       "           0.8004,   2.4203,  -1.7546,  17.8914],\n",
       "        [  1.3386, -15.1712,  10.7054,  18.5190,  16.2916,   7.3719,\n",
       "           2.9201,  -1.9908,  -1.8433,  25.5539],\n",
       "        [-10.3972, -14.3514,  11.5380,  15.8033,  12.5861,  15.0839,\n",
       "           4.8078, -13.3277,   2.7031,  11.8231],\n",
       "        [ -1.6288, -14.8253,  13.1847,  17.6065,  19.1912,  16.9055,\n",
       "          -0.6079, -14.8019,  -6.5656,   6.2990],\n",
       "        [ -9.4312,  -9.2405,  24.0209,  18.4722,  22.2330,   8.5104,\n",
       "           2.6178,   0.0962,  -8.3992,  18.7827],\n",
       "        [  2.5059, -21.3023,  14.2616,  24.5780,  11.6946,   1.1151,\n",
       "           5.0419,  -5.8283,  -0.1411,  19.0981],\n",
       "        [  3.2667,  -9.8521,  19.6612,  19.2009,  17.9355,  15.3786,\n",
       "           9.1102,  -8.7924,   2.3868,  17.6336],\n",
       "        [ -0.6688, -10.0946,  12.1737,  28.3132,  14.9224,   5.8046,\n",
       "           3.8344,  -1.8737,  -2.2339,  17.0429],\n",
       "        [ -6.0860,  -7.4902,   9.5648,  12.2330,   9.8679,  11.3274,\n",
       "          -4.9483, -10.3935,   3.9314,   8.5596],\n",
       "        [ -2.3461, -16.2560,  21.7100,  18.1510,   8.2257,   2.4705,\n",
       "          -6.3587,  -6.9827,  -7.2004,  18.4080],\n",
       "        [ -4.0162, -10.3563,  11.9450,  23.6675,   9.2252,  12.6968,\n",
       "           2.6505,  -2.2544,   3.5640,  19.2338],\n",
       "        [ -2.4138,  -7.6711,   6.0879,  23.1942,   3.0880,  14.6920,\n",
       "          -8.2525, -14.4042,   7.7029,   7.0982],\n",
       "        [-14.6032,  -3.2266,   8.9827,  26.3071,  12.0853,  20.5767,\n",
       "          -6.8988,  -1.3809,   1.2609,   9.6505],\n",
       "        [ -7.5098, -16.4094,   6.9501,  26.0027,  13.7388,   7.2830,\n",
       "          -3.6771,  -2.6749,  -5.7572,  18.9612],\n",
       "        [ -5.9565, -10.6528,  22.4150,  22.0507,   9.4652,   9.0851,\n",
       "           0.3806, -10.0594,  -4.8181,  19.6618],\n",
       "        [ -8.9256, -14.9106,  10.7223,  27.8716,   1.1442,   1.0469,\n",
       "          -9.0612, -21.3904,  -5.1286,  14.2650],\n",
       "        [ -2.0572, -16.7988,  22.3839,  11.0186,  18.0075,  11.3975,\n",
       "          -8.8020, -15.9096,  -4.4741,  22.9409],\n",
       "        [-11.4244,  -6.3503,  20.7716,  22.6715,   4.0039,   6.1057,\n",
       "          -8.6568,  -8.6366,   3.0046,  28.9380],\n",
       "        [ -5.3952, -14.6338,   6.4916,  18.5922,   1.1763,  11.1302,\n",
       "           4.6736, -16.6376,   3.2135,  16.7491],\n",
       "        [ -9.3384, -13.4011,   6.8399,  20.3550,   2.9995,  10.1092,\n",
       "          -0.9019, -10.2121,   2.6982,  10.2313],\n",
       "        [-12.2144, -15.1564,  19.9700,  23.0404,   8.5533,   8.2579,\n",
       "           3.3865,  -0.3886,  -2.6686,  17.7994],\n",
       "        [-11.2644, -10.4950,  11.5420,  22.1486,   4.2979,   2.5841,\n",
       "          -2.8215,  -9.8464,   6.3519,  17.2548],\n",
       "        [ -0.9089, -12.1149,  14.4208,  19.2037,  16.6389,  11.0221,\n",
       "           1.6791,  -9.0628,  -7.9062,  10.0422],\n",
       "        [-13.0229, -13.4399,  11.6360,  13.3168,  -1.9340,  -5.0205,\n",
       "          -3.7893, -11.4641,  15.7953,  14.6529],\n",
       "        [  6.2671,  -7.9211,  14.3024,  17.4759,  15.9886,  10.2475,\n",
       "          -7.6730, -14.8569,  -1.0386,  18.2563],\n",
       "        [-10.8545,  -8.9439,  13.5279,  18.4368,   7.9555,   5.6069,\n",
       "           0.4472, -12.5428,   7.8614,  23.4106],\n",
       "        [ -8.9802, -11.6179,  11.5573,  18.3117,   3.1900,   9.9482,\n",
       "           1.2257,  -5.6518,  -1.6715,  15.1537],\n",
       "        [  0.7014, -13.9939,  22.8019,  16.9763,  12.1107,   5.0829,\n",
       "           2.2176, -14.2113,  -6.7434,  16.9550],\n",
       "        [ -0.9290, -19.5965,  16.8441,  18.5718,  15.6578,   6.4945,\n",
       "          -4.0958,  -8.6268,  -7.2380,  22.4515],\n",
       "        [ -7.3985,  -8.6412,   4.1172,  17.4818,  -5.7051,  10.6691,\n",
       "          -8.7942, -18.9773,  10.5940,  14.6617],\n",
       "        [-11.8758,  -9.4316,  17.6504,  17.0549,   1.5616,   8.9031,\n",
       "          -9.8748, -16.2333,  -3.2998,  16.1448],\n",
       "        [ -8.7741,  -8.6497,   9.6508,  14.9029,  -3.1759,   8.0620,\n",
       "          -2.5203, -21.1620,   9.2043,  12.0197],\n",
       "        [-10.9607, -17.4670,  18.4235,  18.3349,   2.3651,   8.8070,\n",
       "          -9.0610,  -5.1150,  -0.4728,  24.2885],\n",
       "        [ -8.8779,  -9.0510,   6.1957,  18.1522,   6.5538,   5.2226,\n",
       "           5.2849,  -9.9281,  -2.2061,  21.0552],\n",
       "        [ -7.0124, -13.0514,  14.1959,  17.6486,  16.2658,  12.3231,\n",
       "          -6.9753,  -6.2271,   4.2648,  24.1940],\n",
       "        [-11.3639, -15.1814,  12.8339,  21.0677,   9.5383,  12.4987,\n",
       "           2.8183,  -2.5983,   5.0222,  27.0705],\n",
       "        [ -1.3928, -10.2608,  15.0970,  20.0791,  -0.0752,   3.8181,\n",
       "         -11.6100,  -3.5197,   7.1935,  22.6207],\n",
       "        [-10.6840,  -4.1701,   8.7670,  11.0199,  -7.0503,   5.6046,\n",
       "          -5.2120, -18.8722,  14.4263,  24.5927],\n",
       "        [ -3.8377, -19.9977,  12.0495,  26.6035,  -0.0726,   6.6612,\n",
       "          -4.8218, -18.1381,   4.6158,  18.3783],\n",
       "        [ -9.3967, -15.0246,  11.0623,  22.7884,   6.7871,   7.9415,\n",
       "          -6.2211,  -9.1359,   1.5915,  19.5274],\n",
       "        [ -3.2897,  -5.4975,   9.9033,  11.4414,  -4.8438,   4.9286,\n",
       "          -5.9392, -18.9651,  11.2336,  19.7980],\n",
       "        [ -5.4159, -10.8827,  14.7416,  20.2645,   7.1204,   8.0928,\n",
       "         -10.2757, -10.0032,  -2.6888,  21.2518],\n",
       "        [ -2.1848, -22.8760,  10.1506,  16.0783,  10.0887,  13.2886,\n",
       "           1.4210, -10.8711,  -8.8766,  20.8559],\n",
       "        [  1.4690, -13.4427,  20.9715,  21.1010,  18.6951,   5.4176,\n",
       "          -8.9785, -14.1175,   3.7137,  24.2707],\n",
       "        [ -5.3371,  -2.2794,   5.0536,  29.4090,   0.9146,  13.1268,\n",
       "          -9.2652, -15.7956,   7.6422,  13.8367],\n",
       "        [  4.7395, -10.8454,  14.4915,  21.5457,  10.6884,   7.1256,\n",
       "          -4.8052, -12.5948,  -0.9594,  11.0119],\n",
       "        [ -9.8302, -14.4147,  13.6808,  22.6635,   7.0745,  10.4060,\n",
       "           0.7894,  -2.4365,   6.8972,  17.8527],\n",
       "        [ -1.7464,  -8.4735,   9.7689,  24.3532,  13.8576,   8.8522,\n",
       "          -3.5462,  -4.9387,   1.5015,  25.8172],\n",
       "        [-12.3545,  -5.9622,  11.2416,  21.0859,   3.2479,  13.0971,\n",
       "          -9.2058, -12.7136,  -1.6560,  10.8204],\n",
       "        [ -1.9891, -22.1441,  21.9403,  16.2076,  13.9097,   7.4268,\n",
       "           1.9160,  -8.1984,  -6.1613,  19.0759]])"
      ]
     },
     "execution_count": 19,
     "metadata": {},
     "output_type": "execute_result"
    }
   ],
   "source": [
    "# ## Your solution\n",
    "def activation(x):\n",
    "    return (1/(1 + torch.exp(-x)))\n",
    "input_size = images.view(64,784)\n",
    "W1 = torch.randn(784,256)\n",
    "B1 = torch.randn(256)\n",
    "W2 = torch.randn(256,10)\n",
    "B2 = torch.randn(10)\n",
    "\n",
    "h = activation(torch.mm(input_size, W1)+B1)\n",
    "\n",
    "out = torch.mm(h,W2)+B2# output of your network, should have shape (64,10)\n",
    "print(out.shape)\n",
    "out\n",
    "# # Flatten the input images\n",
    "# inputs = images.view(images.shape[0], -1)\n",
    "\n",
    "# # Create parameters\n",
    "# w1 = torch.randn(784, 256)\n",
    "# b1 = torch.randn(256)\n",
    "\n",
    "# w2 = torch.randn(256, 10)\n",
    "# b2 = torch.randn(10)\n",
    "\n",
    "# h = activation(torch.mm(inputs, w1) + b1)\n",
    "\n",
    "# out = torch.mm(h, w2) + b2\n",
    "# out"
   ]
  },
  {
   "cell_type": "markdown",
   "metadata": {},
   "source": [
    "Now we have 10 outputs for our network. We want to pass in an image to our network and get out a probability distribution over the classes that tells us the likely class(es) the image belongs to. Something that looks like this:\n",
    "<img src='assets/image_distribution.png' width=500px>\n",
    "\n",
    "Here we see that the probability for each class is roughly the same. This is representing an untrained network, it hasn't seen any data yet so it just returns a uniform distribution with equal probabilities for each class.\n",
    "\n",
    "To calculate this probability distribution, we often use the [**softmax** function](https://en.wikipedia.org/wiki/Softmax_function). Mathematically this looks like\n",
    "\n",
    "$$\n",
    "\\Large \\sigma(x_i) = \\cfrac{e^{x_i}}{\\sum_k^K{e^{x_k}}}\n",
    "$$\n",
    "\n",
    "What this does is squish each input $x_i$ between 0 and 1 and normalizes the values to give you a proper probability distribution where the probabilites sum up to one.\n",
    "\n",
    "> **Exercise:** Implement a function `softmax` that performs the softmax calculation and returns probability distributions for each example in the batch. Note that you'll need to pay attention to the shapes when doing this. If you have a tensor `a` with shape `(64, 10)` and a tensor `b` with shape `(64,)`, doing `a/b` will give you an error because PyTorch will try to do the division across the columns (called broadcasting) but you'll get a size mismatch. The way to think about this is for each of the 64 examples, you only want to divide by one value, the sum in the denominator. So you need `b` to have a shape of `(64, 1)`. This way PyTorch will divide the 10 values in each row of `a` by the one value in each row of `b`. Pay attention to how you take the sum as well. You'll need to define the `dim` keyword in `torch.sum`. Setting `dim=0` takes the sum across the rows while `dim=1` takes the sum across the columns."
   ]
  },
  {
   "cell_type": "code",
   "execution_count": 23,
   "metadata": {},
   "outputs": [
    {
     "name": "stdout",
     "output_type": "stream",
     "text": [
      "torch.Size([64, 10])\n",
      "tensor([ 1.0000,  1.0000,  1.0000,  1.0000,  1.0000,  1.0000,  1.0000,\n",
      "         1.0000,  1.0000,  1.0000,  1.0000,  1.0000,  1.0000,  1.0000,\n",
      "         1.0000,  1.0000,  1.0000,  1.0000,  1.0000,  1.0000,  1.0000,\n",
      "         1.0000,  1.0000,  1.0000,  1.0000,  1.0000,  1.0000,  1.0000,\n",
      "         1.0000,  1.0000,  1.0000,  1.0000,  1.0000,  1.0000,  1.0000,\n",
      "         1.0000,  1.0000,  1.0000,  1.0000,  1.0000,  1.0000,  1.0000,\n",
      "         1.0000,  1.0000,  1.0000,  1.0000,  1.0000,  1.0000,  1.0000,\n",
      "         1.0000,  1.0000,  1.0000,  1.0000,  1.0000,  1.0000,  1.0000,\n",
      "         1.0000,  1.0000,  1.0000,  1.0000,  1.0000,  1.0000,  1.0000,\n",
      "         1.0000])\n"
     ]
    }
   ],
   "source": [
    "def softmax(x):\n",
    "    ## TODO: Implement the softmax function here\n",
    "    return torch.exp(x)/torch.sum(torch.exp(x),dim=1).view(-1,1)\n",
    "# Here, out should be the output of the network in the previous excercise with shape (64,10)\n",
    "probabilities = softmax(out)\n",
    "\n",
    "# Does it have the right shape? Should be (64, 10)\n",
    "print(probabilities.shape)\n",
    "# Does it sum to 1?\n",
    "print(probabilities.sum(dim=1))"
   ]
  },
  {
   "cell_type": "markdown",
   "metadata": {},
   "source": [
    "## Building networks with PyTorch\n",
    "\n",
    "PyTorch provides a module `nn` that makes building networks much simpler. Here I'll show you how to build the same one as above with 784 inputs, 256 hidden units, 10 output units and a softmax output."
   ]
  },
  {
   "cell_type": "code",
   "execution_count": 24,
   "metadata": {},
   "outputs": [],
   "source": [
    "from torch import nn"
   ]
  },
  {
   "cell_type": "code",
   "execution_count": 25,
   "metadata": {},
   "outputs": [],
   "source": [
    "class Network(nn.Module):\n",
    "    def __init__(self):\n",
    "        super().__init__()\n",
    "        \n",
    "        # Inputs to hidden layer linear transformation\n",
    "        self.hidden = nn.Linear(784, 256)\n",
    "        # Output layer, 10 units - one for each digit\n",
    "        self.output = nn.Linear(256, 10)\n",
    "        \n",
    "        # Define sigmoid activation and softmax output \n",
    "        self.sigmoid = nn.Sigmoid()\n",
    "        self.softmax = nn.Softmax(dim=1)\n",
    "        \n",
    "    def forward(self, x):\n",
    "        # Pass the input tensor through each of our operations\n",
    "        x = self.hidden(x)\n",
    "        x = self.sigmoid(x)\n",
    "        x = self.output(x)\n",
    "        x = self.softmax(x)\n",
    "        \n",
    "        return x"
   ]
  },
  {
   "cell_type": "markdown",
   "metadata": {},
   "source": [
    "Let's go through this bit by bit.\n",
    "\n",
    "```python\n",
    "class Network(nn.Module):\n",
    "```\n",
    "\n",
    "Here we're inheriting from `nn.Module`. Combined with `super().__init__()` this creates a class that tracks the architecture and provides a lot of useful methods and attributes. It is mandatory to inherit from `nn.Module` when you're creating a class for your network. The name of the class itself can be anything.\n",
    "\n",
    "```python\n",
    "self.hidden = nn.Linear(784, 256)\n",
    "```\n",
    "\n",
    "This line creates a module for a linear transformation, $x\\mathbf{W} + b$, with 784 inputs and 256 outputs and assigns it to `self.hidden`. The module automatically creates the weight and bias tensors which we'll use in the `forward` method. You can access the weight and bias tensors once the network (`net`) is created with `net.hidden.weight` and `net.hidden.bias`.\n",
    "\n",
    "```python\n",
    "self.output = nn.Linear(256, 10)\n",
    "```\n",
    "\n",
    "Similarly, this creates another linear transformation with 256 inputs and 10 outputs.\n",
    "\n",
    "```python\n",
    "self.sigmoid = nn.Sigmoid()\n",
    "self.softmax = nn.Softmax(dim=1)\n",
    "```\n",
    "\n",
    "Here I defined operations for the sigmoid activation and softmax output. Setting `dim=1` in `nn.Softmax(dim=1)` calculates softmax across the columns.\n",
    "\n",
    "```python\n",
    "def forward(self, x):\n",
    "```\n",
    "\n",
    "PyTorch networks created with `nn.Module` must have a `forward` method defined. It takes in a tensor `x` and passes it through the operations you defined in the `__init__` method.\n",
    "\n",
    "```python\n",
    "x = self.hidden(x)\n",
    "x = self.sigmoid(x)\n",
    "x = self.output(x)\n",
    "x = self.softmax(x)\n",
    "```\n",
    "\n",
    "Here the input tensor `x` is passed through each operation a reassigned to `x`. We can see that the input tensor goes through the hidden layer, then a sigmoid function, then the output layer, and finally the softmax function. It doesn't matter what you name the variables here, as long as the inputs and outputs of the operations match the network architecture you want to build. The order in which you define things in the `__init__` method doesn't matter, but you'll need to sequence the operations correctly in the `forward` method.\n",
    "\n",
    "Now we can create a `Network` object."
   ]
  },
  {
   "cell_type": "code",
   "execution_count": 26,
   "metadata": {},
   "outputs": [
    {
     "data": {
      "text/plain": [
       "Network(\n",
       "  (hidden): Linear(in_features=784, out_features=256, bias=True)\n",
       "  (output): Linear(in_features=256, out_features=10, bias=True)\n",
       "  (sigmoid): Sigmoid()\n",
       "  (softmax): Softmax()\n",
       ")"
      ]
     },
     "execution_count": 26,
     "metadata": {},
     "output_type": "execute_result"
    }
   ],
   "source": [
    "# Create the network and look at it's text representation\n",
    "model = Network()\n",
    "model"
   ]
  },
  {
   "cell_type": "markdown",
   "metadata": {},
   "source": [
    "You can define the network somewhat more concisely and clearly using the `torch.nn.functional` module. This is the most common way you'll see networks defined as many operations are simple element-wise functions. We normally import this module as `F`, `import torch.nn.functional as F`."
   ]
  },
  {
   "cell_type": "code",
   "execution_count": 45,
   "metadata": {},
   "outputs": [],
   "source": [
    "import torch.nn.functional as F\n",
    "\n",
    "class Network(nn.Module):\n",
    "    def __init__(self):\n",
    "        super().__init__()\n",
    "        # Inputs to hidden layer linear transformation\n",
    "        self.hidden = nn.Linear(784, 256)\n",
    "        # Output layer, 10 units - one for each digit\n",
    "        self.output = nn.Linear(256, 10)\n",
    "        \n",
    "    def forward(self, x):\n",
    "        # Hidden layer with sigmoid activation\n",
    "        x = F.sigmoid(self.hidden(x))\n",
    "        # Output layer with softmax activation\n",
    "        x = F.softmax(self.output(x))\n",
    "        \n",
    "        return x"
   ]
  },
  {
   "cell_type": "markdown",
   "metadata": {},
   "source": [
    "### Activation functions\n",
    "\n",
    "So far we've only been looking at the softmax activation, but in general any function can be used as an activation function. The only requirement is that for a network to approximate a non-linear function, the activation functions must be non-linear. Here are a few more examples of common activation functions: Tanh (hyperbolic tangent), and ReLU (rectified linear unit).\n",
    "\n",
    "<img src=\"assets/activation.png\" width=700px>\n",
    "\n",
    "In practice, the ReLU function is used almost exclusively as the activation function for hidden layers."
   ]
  },
  {
   "cell_type": "markdown",
   "metadata": {},
   "source": [
    "### Your Turn to Build a Network\n",
    "\n",
    "<img src=\"assets/mlp_mnist.png\" width=600px>\n",
    "\n",
    "> **Exercise:** Create a network with 784 input units, a hidden layer with 128 units and a ReLU activation, then a hidden layer with 64 units and a ReLU activation, and finally an output layer with a softmax activation as shown above. You can use a ReLU activation with the `nn.ReLU` module or `F.relu` function."
   ]
  },
  {
   "cell_type": "code",
   "execution_count": 51,
   "metadata": {
    "scrolled": true
   },
   "outputs": [
    {
     "data": {
      "text/plain": [
       "MyNet(\n",
       "  (hidden1): Linear(in_features=784, out_features=128, bias=True)\n",
       "  (hidden2): Linear(in_features=128, out_features=64, bias=True)\n",
       "  (output): Linear(in_features=64, out_features=10, bias=True)\n",
       ")"
      ]
     },
     "execution_count": 51,
     "metadata": {},
     "output_type": "execute_result"
    }
   ],
   "source": [
    "## Your solution here\n",
    "import torch.nn.functional as F\n",
    "from torch import nn\n",
    "\n",
    "class MyNet(nn.Module):\n",
    "    def __init__(self):\n",
    "        super().__init__()\n",
    "        \n",
    "        self.hidden1 = nn.Linear(784,128)\n",
    "        self.hidden2 = nn.Linear(128,64)\n",
    "        self.output = nn.Linear(64,10)\n",
    "    \n",
    "    def FeedForward(self, x):\n",
    "        x = F.relu(self.hidden1(x))\n",
    "        x = F.relu(self.hidden2(x))\n",
    "        x = F.softmax(self.output(x))\n",
    "        return x\n",
    "model = MyNet()\n",
    "model"
   ]
  },
  {
   "cell_type": "markdown",
   "metadata": {},
   "source": [
    "### Initializing weights and biases\n",
    "\n",
    "The weights and such are automatically initialized for you, but it's possible to customize how they are initialized. The weights and biases are tensors attached to the layer you defined, you can get them with `model.fc1.weight` for instance."
   ]
  },
  {
   "cell_type": "code",
   "execution_count": 52,
   "metadata": {},
   "outputs": [
    {
     "name": "stdout",
     "output_type": "stream",
     "text": [
      "Parameter containing:\n",
      "tensor([[-2.0171e-02, -2.8053e-02,  1.4612e-02,  ..., -4.9524e-03,\n",
      "         -2.7594e-02,  2.2901e-02],\n",
      "        [ 2.5385e-02, -2.7781e-02,  1.5022e-02,  ...,  2.8045e-02,\n",
      "         -2.1126e-02,  5.1285e-03],\n",
      "        [-1.8872e-02, -2.0290e-02,  2.9701e-02,  ..., -1.4079e-02,\n",
      "         -1.2511e-02, -3.9789e-03],\n",
      "        ...,\n",
      "        [-2.1523e-02, -5.6704e-03,  5.2499e-03,  ..., -1.5182e-03,\n",
      "          1.1259e-02, -7.1948e-03],\n",
      "        [ 3.3828e-02, -2.2102e-02,  3.1889e-02,  ...,  3.3361e-02,\n",
      "          2.3150e-02,  6.4083e-03],\n",
      "        [ 1.9341e-02,  1.0609e-02,  2.4743e-02,  ...,  2.5627e-03,\n",
      "         -2.3026e-02, -1.7599e-02]])\n",
      "Parameter containing:\n",
      "tensor(1.00000e-02 *\n",
      "       [-4.1904, -3.0482,  3.1481,  2.5677, -8.3266,  7.5998, -4.1256,\n",
      "        -2.3638, -5.5549, -5.4221, -4.1775, -8.1725,  2.4002, -2.2749,\n",
      "        -7.7132, -2.8893, -6.2954, -7.2990, -5.4299, -1.2907, -1.5618,\n",
      "        -2.1080,  4.5454, -7.2081,  0.4272, -0.8913, -4.5677, -1.2702,\n",
      "         0.3768,  7.4291, -0.1395,  3.3128,  4.3942, -7.6898,  3.5307,\n",
      "         3.8144, -1.3792,  1.8725,  0.7216, -2.8770,  1.0699, -7.2564,\n",
      "         7.5651,  0.7215,  7.8170,  5.7368,  4.9908, -8.0025, -8.5368,\n",
      "        -1.7723,  3.9858,  5.0708, -2.1806,  2.3172,  2.3430, -7.1883,\n",
      "        -4.1363,  6.5090,  0.6777, -3.0122,  1.9220, -4.3167, -3.3726,\n",
      "        -4.4407])\n"
     ]
    }
   ],
   "source": [
    "print(model.hidden1.weight)\n",
    "print(model.hidden2.bias)"
   ]
  },
  {
   "cell_type": "markdown",
   "metadata": {},
   "source": [
    "For custom initialization, we want to modify these tensors in place. These are actually autograd *Variables*, so we need to get back the actual tensors with `model.fc1.weight.data`. Once we have the tensors, we can fill them with zeros (for biases) or random normal values."
   ]
  },
  {
   "cell_type": "code",
   "execution_count": 53,
   "metadata": {},
   "outputs": [
    {
     "data": {
      "text/plain": [
       "tensor([ 0.,  0.,  0.,  0.,  0.,  0.,  0.,  0.,  0.,  0.,  0.,  0.,\n",
       "         0.,  0.,  0.,  0.,  0.,  0.,  0.,  0.,  0.,  0.,  0.,  0.,\n",
       "         0.,  0.,  0.,  0.,  0.,  0.,  0.,  0.,  0.,  0.,  0.,  0.,\n",
       "         0.,  0.,  0.,  0.,  0.,  0.,  0.,  0.,  0.,  0.,  0.,  0.,\n",
       "         0.,  0.,  0.,  0.,  0.,  0.,  0.,  0.,  0.,  0.,  0.,  0.,\n",
       "         0.,  0.,  0.,  0.,  0.,  0.,  0.,  0.,  0.,  0.,  0.,  0.,\n",
       "         0.,  0.,  0.,  0.,  0.,  0.,  0.,  0.,  0.,  0.,  0.,  0.,\n",
       "         0.,  0.,  0.,  0.,  0.,  0.,  0.,  0.,  0.,  0.,  0.,  0.,\n",
       "         0.,  0.,  0.,  0.,  0.,  0.,  0.,  0.,  0.,  0.,  0.,  0.,\n",
       "         0.,  0.,  0.,  0.,  0.,  0.,  0.,  0.,  0.,  0.,  0.,  0.,\n",
       "         0.,  0.,  0.,  0.,  0.,  0.,  0.,  0.])"
      ]
     },
     "execution_count": 53,
     "metadata": {},
     "output_type": "execute_result"
    }
   ],
   "source": [
    "# Set biases to all zeros\n",
    "model.hidden1.bias.data.fill_(0)"
   ]
  },
  {
   "cell_type": "code",
   "execution_count": 54,
   "metadata": {},
   "outputs": [
    {
     "data": {
      "text/plain": [
       "tensor([[-1.9006e-03, -2.1037e-02,  2.2760e-03,  ..., -3.8249e-03,\n",
       "          6.3786e-03,  1.1483e-02],\n",
       "        [-1.7679e-02, -2.8371e-03, -1.1828e-02,  ..., -5.6115e-03,\n",
       "         -3.3731e-03, -1.0484e-02],\n",
       "        [ 1.3161e-02, -9.9361e-03,  1.2422e-02,  ..., -2.7967e-02,\n",
       "         -5.7758e-03,  1.1015e-02],\n",
       "        ...,\n",
       "        [-1.8500e-02,  1.2660e-04, -2.0457e-02,  ..., -1.8841e-03,\n",
       "         -4.4708e-03,  1.5164e-02],\n",
       "        [-1.9780e-03,  7.7914e-03, -8.2804e-03,  ..., -6.6475e-04,\n",
       "          1.1498e-02, -4.5500e-03],\n",
       "        [-2.5906e-03,  1.7299e-02,  4.6237e-03,  ..., -4.0405e-03,\n",
       "          9.8906e-03, -2.1154e-02]])"
      ]
     },
     "execution_count": 54,
     "metadata": {},
     "output_type": "execute_result"
    }
   ],
   "source": [
    "# sample from random normal with standard dev = 0.01\n",
    "model.hidden1.weight.data.normal_(std=0.01)"
   ]
  },
  {
   "cell_type": "markdown",
   "metadata": {},
   "source": [
    "### Forward pass\n",
    "\n",
    "Now that we have a network, let's see what happens when we pass in an image."
   ]
  },
  {
   "cell_type": "code",
   "execution_count": 55,
   "metadata": {},
   "outputs": [
    {
     "name": "stderr",
     "output_type": "stream",
     "text": [
      "/opt/conda/lib/python3.6/site-packages/ipykernel_launcher.py:16: UserWarning: Implicit dimension choice for softmax has been deprecated. Change the call to include dim=X as an argument.\n",
      "  app.launch_new_instance()\n"
     ]
    },
    {
     "data": {
      "image/png": "[encoded data removed]",
      "text/plain": [
       "<matplotlib.figure.Figure at 0x7f707e958da0>"
      ]
     },
     "metadata": {
      "image/png": {
       "height": 224,
       "width": 423
      },
      "needs_background": "light"
     },
     "output_type": "display_data"
    }
   ],
   "source": [
    "# Grab some data \n",
    "dataiter = iter(trainloader)\n",
    "images, labels = dataiter.next()\n",
    "\n",
    "# Resize images into a 1D vector, new shape is (batch size, color channels, image pixels) \n",
    "images.resize_(64, 1, 784)\n",
    "# or images.resize_(images.shape[0], 1, 784) to automatically get batch size\n",
    "\n",
    "# Forward pass through the network\n",
    "img_idx = 0\n",
    "ps = model.FeedForward(images[img_idx,:])\n",
    "\n",
    "img = images[img_idx]\n",
    "helper.view_classify(img.view(1, 28, 28), ps)"
   ]
  },
  {
   "cell_type": "markdown",
   "metadata": {},
   "source": [
    "As you can see above, our network has basically no idea what this digit is. It's because we haven't trained it yet, all the weights are random!\n",
    "\n",
    "### Using `nn.Sequential`\n",
    "\n",
    "PyTorch provides a convenient way to build networks like this where a tensor is passed sequentially through operations, `nn.Sequential` ([documentation](https://pytorch.org/docs/master/nn.html#torch.nn.Sequential)). Using this to build the equivalent network:"
   ]
  },
  {
   "cell_type": "code",
   "execution_count": 60,
   "metadata": {},
   "outputs": [
    {
     "name": "stdout",
     "output_type": "stream",
     "text": [
      "Sequential(\n",
      "  (0): Linear(in_features=784, out_features=128, bias=True)\n",
      "  (1): ReLU()\n",
      "  (2): Linear(in_features=128, out_features=64, bias=True)\n",
      "  (3): ReLU()\n",
      "  (4): Linear(in_features=64, out_features=10, bias=True)\n",
      "  (5): Softmax()\n",
      ")\n"
     ]
    },
    {
     "data": {
      "image/png": "[encoded data removed]",
      "text/plain": [
       "<matplotlib.figure.Figure at 0x7f707e8faac8>"
      ]
     },
     "metadata": {
      "image/png": {
       "height": 224,
       "width": 423
      },
      "needs_background": "light"
     },
     "output_type": "display_data"
    }
   ],
   "source": [
    "# Hyperparameters for our network\n",
    "input_size = 784\n",
    "hidden_sizes = [128, 64]\n",
    "output_size = 10\n",
    "\n",
    "# Build a feed-forward network\n",
    "model = nn.Sequential(nn.Linear(input_size, hidden_sizes[0]),\n",
    "                      nn.ReLU(),\n",
    "                      nn.Linear(hidden_sizes[0], hidden_sizes[1]),\n",
    "                      nn.ReLU(),\n",
    "                      nn.Linear(hidden_sizes[1], output_size),\n",
    "                      nn.Softmax(dim=1))\n",
    "print(model)\n",
    "\n",
    "# Forward pass through the network and display output\n",
    "images, labels = next(iter(trainloader))\n",
    "images.resize_(images.shape[0], 1, 784)\n",
    "ps = model.forward(images[0,:])\n",
    "helper.view_classify(images[0].view(1, 28, 28), ps)"
   ]
  },
  {
   "cell_type": "markdown",
   "metadata": {},
   "source": [
    "Here our model is the same as before: 784 input units, a hidden layer with 128 units, ReLU activation, 64 unit hidden layer, another ReLU, then the output layer with 10 units, and the softmax output.\n",
    "\n",
    "The operations are availble by passing in the appropriate index. For example, if you want to get first Linear operation and look at the weights, you'd use `model[0]`."
   ]
  },
  {
   "cell_type": "code",
   "execution_count": 61,
   "metadata": {},
   "outputs": [
    {
     "name": "stdout",
     "output_type": "stream",
     "text": [
      "Linear(in_features=784, out_features=128, bias=True)\n"
     ]
    },
    {
     "data": {
      "text/plain": [
       "Parameter containing:\n",
       "tensor([[ 2.2988e-02,  1.1225e-02, -2.2086e-03,  ...,  3.1430e-03,\n",
       "         -1.6500e-03, -2.2653e-05],\n",
       "        [-2.7581e-02, -1.0270e-02, -3.2411e-02,  ...,  2.1907e-02,\n",
       "         -2.1334e-02, -2.6013e-03],\n",
       "        [ 2.2757e-04,  5.2962e-03, -2.9514e-02,  ...,  1.0904e-02,\n",
       "         -5.7260e-03,  1.9594e-02],\n",
       "        ...,\n",
       "        [-1.0774e-02,  2.7890e-02, -3.5049e-02,  ..., -1.4234e-02,\n",
       "          4.7444e-03, -2.9832e-02],\n",
       "        [-2.5553e-02,  7.6801e-04,  3.0266e-02,  ..., -2.0593e-02,\n",
       "         -3.3647e-02,  7.6801e-03],\n",
       "        [ 2.5890e-02, -9.6810e-03,  3.3292e-02,  ..., -9.3586e-03,\n",
       "          3.2634e-02, -2.9896e-02]])"
      ]
     },
     "execution_count": 61,
     "metadata": {},
     "output_type": "execute_result"
    }
   ],
   "source": [
    "print(model[0])\n",
    "model[0].weight"
   ]
  },
  {
   "cell_type": "markdown",
   "metadata": {},
   "source": [
    "You can also pass in an `OrderedDict` to name the individual layers and operations, instead of using incremental integers. Note that dictionary keys must be unique, so _each operation must have a different name_."
   ]
  },
  {
   "cell_type": "code",
   "execution_count": 64,
   "metadata": {},
   "outputs": [
    {
     "data": {
      "text/plain": [
       "Sequential(\n",
       "  (fc1): Linear(in_features=784, out_features=128, bias=True)\n",
       "  (relu1): ReLU()\n",
       "  (fc2): Linear(in_features=128, out_features=64, bias=True)\n",
       "  (relu2): ReLU()\n",
       "  (output): Linear(in_features=64, out_features=10, bias=True)\n",
       "  (softmax): Softmax()\n",
       ")"
      ]
     },
     "execution_count": 64,
     "metadata": {},
     "output_type": "execute_result"
    }
   ],
   "source": [
    "from collections import OrderedDict\n",
    "model = nn.Sequential(OrderedDict([\n",
    "                      ('fc1', nn.Linear(input_size, hidden_sizes[0])),\n",
    "                      ('relu1', nn.ReLU()),\n",
    "                      ('fc2', nn.Linear(hidden_sizes[0], hidden_sizes[1])),\n",
    "                      ('relu2', nn.ReLU()),\n",
    "                      ('output', nn.Linear(hidden_sizes[1], output_size)),\n",
    "                      ('softmax', nn.Softmax(dim=1))]))\n",
    "model"
   ]
  },
  {
   "cell_type": "markdown",
   "metadata": {},
   "source": [
    "Now you can access layers either by integer or the name"
   ]
  },
  {
   "cell_type": "code",
   "execution_count": 63,
   "metadata": {},
   "outputs": [
    {
     "name": "stdout",
     "output_type": "stream",
     "text": [
      "Linear(in_features=784, out_features=128, bias=True)\n",
      "Linear(in_features=784, out_features=128, bias=True)\n"
     ]
    }
   ],
   "source": [
    "print(model[0])\n",
    "print(model.fc1)"
   ]
  },
  {
   "cell_type": "markdown",
   "metadata": {},
   "source": [
    "In the next notebook, we'll see how we can train a neural network to accuractly predict the numbers appearing in the MNIST images."
   ]
  }
 ],
 "metadata": {
  "kernelspec": {
   "display_name": "Python 3",
   "language": "python",
   "name": "python3"
  },
  "language_info": {
   "codemirror_mode": {
    "name": "ipython",
    "version": 3
   },
   "file_extension": ".py",
   "mimetype": "text/x-python",
   "name": "python",
   "nbconvert_exporter": "python",
   "pygments_lexer": "ipython3",
   "version": "3.6.3"
  }
 },
 "nbformat": 4,
 "nbformat_minor": 2
}
